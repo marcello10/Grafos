{
 "cells": [
  {
   "cell_type": "code",
   "execution_count": 7,
   "metadata": {},
   "outputs": [],
   "source": [
    "from collections import defaultdict"
   ]
  },
  {
   "cell_type": "code",
   "execution_count": 1,
   "metadata": {},
   "outputs": [],
   "source": [
    "grafo = { \"A\" : [\"B\"],\n",
    "        \"B\" : [\"C\", \"D\"],\n",
    "        \"C\" : [\"B\", \"E\"],\n",
    "        \"D\" : [\"A\"],\n",
    "        \"E\" : [\"B\"]\n",
    "        }"
   ]
  },
  {
   "cell_type": "code",
   "execution_count": 6,
   "metadata": {},
   "outputs": [
    {
     "name": "stdout",
     "output_type": "stream",
     "text": [
      "A->B\n",
      "B->C\n",
      "B->D\n",
      "C->B\n",
      "C->E\n",
      "D->A\n",
      "E->B\n"
     ]
    }
   ],
   "source": [
    "for v in grafo:\n",
    "    for u in grafo[v]:\n",
    "        print(f\"{v}->{u}\")"
   ]
  },
  {
   "cell_type": "code",
   "execution_count": 8,
   "metadata": {},
   "outputs": [],
   "source": [
    "class Grafo(object):\n",
    "    \"\"\" Implementação básica de um grafo. \"\"\"\n",
    "\n",
    "    def __init__(self, arestas, direcionado=False):\n",
    "        \"\"\"Inicializa as estruturas base do grafo.\"\"\"\n",
    "        self.adj = defaultdict(set)\n",
    "        self.direcionado = direcionado\n",
    "        self.adiciona_arestas(arestas)\n",
    "\n",
    "\n",
    "    def get_vertices(self):\n",
    "        \"\"\" Retorna a lista de vértices do grafo. \"\"\"\n",
    "        return list(self.adj.keys())\n",
    "\n",
    "\n",
    "    def get_arestas(self):\n",
    "        \"\"\" Retorna a lista de arestas do grafo. \"\"\"\n",
    "        return [(k, v) for k in self.adj.keys() for v in self.adj[k]]\n",
    "\n",
    "\n",
    "    def adiciona_arestas(self, arestas):\n",
    "        \"\"\" Adiciona arestas ao grafo. \"\"\"\n",
    "        for u, v in arestas:\n",
    "            self.adiciona_arco(u, v)\n",
    "\n",
    "\n",
    "    def adiciona_arco(self, u, v):\n",
    "        \"\"\" Adiciona uma ligação (arco) entre os nodos 'u' e 'v'. \"\"\"\n",
    "        self.adj[u].add(v)\n",
    "        # Se o grafo é não-direcionado, precisamos adicionar arcos nos dois sentidos.\n",
    "        if not self.direcionado:\n",
    "            self.adj[v].add(u)\n",
    "\n",
    "\n",
    "    def existe_aresta(self, u, v):\n",
    "        \"\"\" Existe uma aresta entre os vértices 'u' e 'v'? \"\"\"\n",
    "        return u in self.adj and v in self.adj[u]\n",
    "\n",
    "\n",
    "    def __len__(self):\n",
    "        return len(self.adj)\n",
    "\n",
    "\n",
    "    def __str__(self):\n",
    "        return '{}({})'.format(self.__class__.__name__, dict(self.adj))\n",
    "\n",
    "\n",
    "    def __getitem__(self, v):\n",
    "        return self.adj[v]"
   ]
  },
  {
   "cell_type": "code",
   "execution_count": 10,
   "metadata": {},
   "outputs": [
    {
     "data": {
      "text/plain": [
       "defaultdict(set, {'A': {'B'}, 'B': {'A', 'C'}, 'C': {'B', 'D'}, 'D': {'C'}})"
      ]
     },
     "execution_count": 10,
     "metadata": {},
     "output_type": "execute_result"
    }
   ],
   "source": [
    "g = Grafo([('A', 'B'), ('B', 'C'), ('C', 'D')])\n",
    "g.adj"
   ]
  }
 ],
 "metadata": {
  "kernelspec": {
   "display_name": "Python 3",
   "language": "python",
   "name": "python3"
  },
  "language_info": {
   "codemirror_mode": {
    "name": "ipython",
    "version": 3
   },
   "file_extension": ".py",
   "mimetype": "text/x-python",
   "name": "python",
   "nbconvert_exporter": "python",
   "pygments_lexer": "ipython3",
   "version": "3.11.0"
  }
 },
 "nbformat": 4,
 "nbformat_minor": 2
}
