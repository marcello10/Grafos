{
 "cells": [
  {
   "cell_type": "code",
   "execution_count": 1,
   "metadata": {},
   "outputs": [],
   "source": [
    "import numpy as np"
   ]
  },
  {
   "cell_type": "code",
   "execution_count": 2,
   "metadata": {},
   "outputs": [],
   "source": [
    "grafo = [ [1],           # Vizinhos do vértice 0.\n",
    "          [2, 3],        # Vizinhos do vértice 1.\n",
    "          [1, 4],        # Vizinhos do vértice 2.\n",
    "          [0],           # Vizinhos do vértice 3.\n",
    "          [1]            # Vizinhos do vértice 4.\n",
    "        ]"
   ]
  },
  {
   "cell_type": "code",
   "execution_count": 16,
   "metadata": {},
   "outputs": [],
   "source": [
    "def dfs(grafo, vertice):\n",
    "    visitados = set()\n",
    "\n",
    "    def dfs_recursiva(grafo, vertice):\n",
    "        visitados.add(vertice)\n",
    "        for vizinho in grafo[vertice]:\n",
    "            #print(f\"Vértice:{vertice} - Vizinho:{vizinho}\")\n",
    "            if vizinho not in visitados:\n",
    "                dfs_recursiva(grafo, vizinho)\n",
    "\n",
    "    dfs_recursiva(grafo, vertice)\n",
    "    return visitados"
   ]
  },
  {
   "cell_type": "code",
   "execution_count": 17,
   "metadata": {},
   "outputs": [
    {
     "data": {
      "text/plain": [
       "{0, 1, 2, 3, 4}"
      ]
     },
     "execution_count": 17,
     "metadata": {},
     "output_type": "execute_result"
    }
   ],
   "source": [
    "dfs(grafo=grafo,vertice=0)"
   ]
  }
 ],
 "metadata": {
  "kernelspec": {
   "display_name": "Python 3",
   "language": "python",
   "name": "python3"
  },
  "language_info": {
   "codemirror_mode": {
    "name": "ipython",
    "version": 3
   },
   "file_extension": ".py",
   "mimetype": "text/x-python",
   "name": "python",
   "nbconvert_exporter": "python",
   "pygments_lexer": "ipython3",
   "version": "3.11.0"
  }
 },
 "nbformat": 4,
 "nbformat_minor": 2
}
