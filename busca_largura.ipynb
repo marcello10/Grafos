{
 "cells": [
  {
   "cell_type": "code",
   "execution_count": 1,
   "metadata": {},
   "outputs": [],
   "source": [
    "from collections import deque\n"
   ]
  },
  {
   "cell_type": "code",
   "execution_count": 14,
   "metadata": {},
   "outputs": [
    {
     "data": {
      "text/plain": [
       "deque([1, 2, 3])"
      ]
     },
     "execution_count": 14,
     "metadata": {},
     "output_type": "execute_result"
    }
   ],
   "source": [
    "fila = deque()\n",
    "fila.append(1)\n",
    "fila.append(2)\n",
    "fila.append(3)\n",
    "fila"
   ]
  },
  {
   "cell_type": "code",
   "execution_count": 15,
   "metadata": {},
   "outputs": [
    {
     "data": {
      "text/plain": [
       "deque([0, 1, 2, 3])"
      ]
     },
     "execution_count": 15,
     "metadata": {},
     "output_type": "execute_result"
    }
   ],
   "source": [
    "fila.appendleft(0)\n",
    "fila"
   ]
  },
  {
   "cell_type": "code",
   "execution_count": 18,
   "metadata": {},
   "outputs": [
    {
     "data": {
      "text/plain": [
       "deque([1, 2])"
      ]
     },
     "execution_count": 18,
     "metadata": {},
     "output_type": "execute_result"
    }
   ],
   "source": [
    "elemento_inicio = fila.popleft()\n",
    "elemento_final = fila.pop()\n",
    "fila"
   ]
  },
  {
   "cell_type": "code",
   "execution_count": 20,
   "metadata": {},
   "outputs": [
    {
     "data": {
      "text/plain": [
       "3"
      ]
     },
     "execution_count": 20,
     "metadata": {},
     "output_type": "execute_result"
    }
   ],
   "source": [
    "elemento_final"
   ]
  },
  {
   "cell_type": "code",
   "execution_count": 1,
   "metadata": {},
   "outputs": [
    {
     "name": "stdout",
     "output_type": "stream",
     "text": [
      "Busca em Largura a partir de A\n",
      "A B "
     ]
    }
   ],
   "source": [
    "from collections import deque\n",
    "\n",
    "def busca_em_largura(grafo, inicio):\n",
    "    visitados = set()\n",
    "    fila = deque([inicio])\n",
    "\n",
    "    while fila:\n",
    "        vertice = fila.popleft()\n",
    "        if vertice not in visitados:\n",
    "            print(vertice, end=' ')\n",
    "            visitados.add(vertice)\n",
    "            fila.extend(vizinho for vizinho in grafo[vertice] if vizinho not in visitados)\n",
    "\n",
    "# Exemplo de um grafo representado como dicionário de adjacência\n",
    "grafo = {\n",
    "    'A': ['B', 'C'],\n",
    "    'B': ['A', 'D', 'E'],\n",
    "    'C': ['A', 'F', 'G'],\n",
    "    'D': ['B'],\n",
    "    'E': ['B'],\n",
    "    'F': ['C'],\n",
    "    'G': ['C']\n",
    "}\n",
    "\n",
    "# Chame a função BFS com um ponto de partida\n",
    "ponto_partida = 'A'\n",
    "print(\"Busca em Largura a partir de\", ponto_partida)\n",
    "busca_em_largura(grafo, ponto_partida)\n"
   ]
  }
 ],
 "metadata": {
  "kernelspec": {
   "display_name": "Python 3",
   "language": "python",
   "name": "python3"
  },
  "language_info": {
   "codemirror_mode": {
    "name": "ipython",
    "version": 3
   },
   "file_extension": ".py",
   "mimetype": "text/x-python",
   "name": "python",
   "nbconvert_exporter": "python",
   "pygments_lexer": "ipython3",
   "version": "3.11.0"
  }
 },
 "nbformat": 4,
 "nbformat_minor": 2
}
